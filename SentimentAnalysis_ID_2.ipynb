{
 "cells": [
  {
   "cell_type": "markdown",
   "id": "622ce1c8",
   "metadata": {},
   "source": [
    "## Demonstrating the difficulty of performing a sentiment analysis for a SEA language at the same richness level as in English"
   ]
  },
  {
   "cell_type": "markdown",
   "id": "7cb692b7",
   "metadata": {},
   "source": [
    "### Sentiment analysis"
   ]
  },
  {
   "cell_type": "markdown",
   "id": "0674f420",
   "metadata": {},
   "source": [
    "We pick Indonesian to represent a SEA language in this demo. Except for Malay, Thai and Vietnamese, which are more or less in similar states as Indonesian, the limitations demonstrated here currently are more severely felt for the other major SEA languages, i.e. Filipino Khmer, Lao and Burmese. "
   ]
  },
  {
   "cell_type": "code",
   "execution_count": 1,
   "id": "6b4a4d21",
   "metadata": {},
   "outputs": [],
   "source": [
    "import numpy as np\n",
    "import pandas as pd\n",
    "\n",
    "import fasttext"
   ]
  },
  {
   "cell_type": "markdown",
   "id": "9b10a40e",
   "metadata": {},
   "source": [
    "We are using a sentence level sentiment analysis data from the IndoNLU repository (https://github.com/indobenchmark/indonlu/tree/master/dataset/smsa_doc-sentiment-prosa).\n",
    "\n",
    "There are 3 sentiment classes: positive, negative and neutral."
   ]
  },
  {
   "cell_type": "code",
   "execution_count": 2,
   "id": "e8f57b5c",
   "metadata": {},
   "outputs": [
    {
     "data": {
      "text/html": [
       "<div>\n",
       "<style scoped>\n",
       "    .dataframe tbody tr th:only-of-type {\n",
       "        vertical-align: middle;\n",
       "    }\n",
       "\n",
       "    .dataframe tbody tr th {\n",
       "        vertical-align: top;\n",
       "    }\n",
       "\n",
       "    .dataframe thead th {\n",
       "        text-align: right;\n",
       "    }\n",
       "</style>\n",
       "<table border=\"1\" class=\"dataframe\">\n",
       "  <thead>\n",
       "    <tr style=\"text-align: right;\">\n",
       "      <th></th>\n",
       "      <th>text</th>\n",
       "      <th>label</th>\n",
       "    </tr>\n",
       "  </thead>\n",
       "  <tbody>\n",
       "    <tr>\n",
       "      <th>0</th>\n",
       "      <td>warung ini dimiliki oleh pengusaha pabrik tahu...</td>\n",
       "      <td>positive</td>\n",
       "    </tr>\n",
       "    <tr>\n",
       "      <th>1</th>\n",
       "      <td>mohon ulama lurus dan k212 mmbri hujjah partai...</td>\n",
       "      <td>neutral</td>\n",
       "    </tr>\n",
       "    <tr>\n",
       "      <th>2</th>\n",
       "      <td>lokasi strategis di jalan sumatera bandung . t...</td>\n",
       "      <td>positive</td>\n",
       "    </tr>\n",
       "    <tr>\n",
       "      <th>3</th>\n",
       "      <td>betapa bahagia nya diri ini saat unboxing pake...</td>\n",
       "      <td>positive</td>\n",
       "    </tr>\n",
       "    <tr>\n",
       "      <th>4</th>\n",
       "      <td>duh . jadi mahasiswa jangan sombong dong . kas...</td>\n",
       "      <td>negative</td>\n",
       "    </tr>\n",
       "  </tbody>\n",
       "</table>\n",
       "</div>"
      ],
      "text/plain": [
       "                                                text     label\n",
       "0  warung ini dimiliki oleh pengusaha pabrik tahu...  positive\n",
       "1  mohon ulama lurus dan k212 mmbri hujjah partai...   neutral\n",
       "2  lokasi strategis di jalan sumatera bandung . t...  positive\n",
       "3  betapa bahagia nya diri ini saat unboxing pake...  positive\n",
       "4  duh . jadi mahasiswa jangan sombong dong . kas...  negative"
      ]
     },
     "metadata": {},
     "output_type": "display_data"
    }
   ],
   "source": [
    "smsa_train = pd.read_csv(\"Datasets/SMSA/train_preprocess.tsv\", sep=\"\\t\", header=None)\n",
    "smsa_test = pd.read_csv(\"Datasets/SMSA/valid_preprocess.tsv\", sep=\"\\t\", header=None)\n",
    "\n",
    "smsa_train.columns = [\"text\", \"label\"]\n",
    "smsa_test.columns = [\"text\", \"label\"]\n",
    "\n",
    "display(smsa_train.head(5))"
   ]
  },
  {
   "cell_type": "markdown",
   "id": "540b1efe",
   "metadata": {},
   "source": [
    "Unlike in high resource languages like English and Chinese, state-of-the-art transformers-based models are not readily available for most of SEA languages. We often need to resort to classical methods to perform NLP analysis, like relying on TF-IDF features. Luckily for us, embedding representations for SEA languages, i.e. something that are more advanced than TF-IDF, are available to use for sentiment analysis. One can download these embeddings from the library `fasttext` (https://fasttext.cc/docs/en/crawl-vectors.html).  \n",
    "\n",
    "**Note:** For Indonesian, there are actually some BERT-based models that can be used for sentiment analysis. But we cannot assume that other SEA languages are in the same state. Therefore, we stick to a more realistic resource like `fasttext`, as we use Indonesian only to represent SEA language in general. Despite the relatively more advanced state of Indonesian NLP, we shall see soon in this demo that the ease of doing NLP in it is still quite far behind English. "
   ]
  },
  {
   "cell_type": "markdown",
   "id": "43ea1986",
   "metadata": {},
   "source": [
    "The pretrained Indonesian `fasttext` embedding can be downloaded from https://fasttext.cc/docs/en/crawl-vectors.html, but its size is in GB.\n",
    "\n",
    "Feel free to just watch this demo during the workshop. In your own time, after the session, you can download the fasttext embedding to do the full hands-on yourself.\n",
    "\n",
    "Do ignore the warning message when loading the embedding."
   ]
  },
  {
   "cell_type": "code",
   "execution_count": 3,
   "id": "30a81f1b",
   "metadata": {},
   "outputs": [
    {
     "name": "stderr",
     "output_type": "stream",
     "text": [
      "Warning : `load_model` does not return WordVectorModel or SupervisedModel any more, but a `FastText` object which is very similar.\n"
     ]
    }
   ],
   "source": [
    "ft = fasttext.load_model(\"Resources/cc.id.300.bin\")"
   ]
  },
  {
   "cell_type": "markdown",
   "id": "95e0547d",
   "metadata": {},
   "source": [
    "When using `fasttext`, one can get the vector representation of a paragraph or a sentence by calling the function `get_sentence_vector`. We use the `apply` function from `pandas` to convert all the paragraphs in the train and test sets into their respective embedding vector representations. "
   ]
  },
  {
   "cell_type": "code",
   "execution_count": 4,
   "id": "96bcee97",
   "metadata": {},
   "outputs": [],
   "source": [
    "smsa_train_df = pd.DataFrame.from_records(smsa_train.apply(lambda x: ft.get_sentence_vector(x[\"text\"]), axis=1))\n",
    "smsa_test_df = pd.DataFrame.from_records(smsa_test.apply(lambda x: ft.get_sentence_vector(x[\"text\"]), axis=1))"
   ]
  },
  {
   "cell_type": "code",
   "execution_count": 5,
   "id": "bbd50a7c",
   "metadata": {},
   "outputs": [
    {
     "data": {
      "text/html": [
       "<div>\n",
       "<style scoped>\n",
       "    .dataframe tbody tr th:only-of-type {\n",
       "        vertical-align: middle;\n",
       "    }\n",
       "\n",
       "    .dataframe tbody tr th {\n",
       "        vertical-align: top;\n",
       "    }\n",
       "\n",
       "    .dataframe thead th {\n",
       "        text-align: right;\n",
       "    }\n",
       "</style>\n",
       "<table border=\"1\" class=\"dataframe\">\n",
       "  <thead>\n",
       "    <tr style=\"text-align: right;\">\n",
       "      <th></th>\n",
       "      <th>0</th>\n",
       "      <th>1</th>\n",
       "      <th>2</th>\n",
       "      <th>3</th>\n",
       "      <th>4</th>\n",
       "      <th>5</th>\n",
       "      <th>6</th>\n",
       "      <th>7</th>\n",
       "      <th>8</th>\n",
       "      <th>9</th>\n",
       "      <th>...</th>\n",
       "      <th>290</th>\n",
       "      <th>291</th>\n",
       "      <th>292</th>\n",
       "      <th>293</th>\n",
       "      <th>294</th>\n",
       "      <th>295</th>\n",
       "      <th>296</th>\n",
       "      <th>297</th>\n",
       "      <th>298</th>\n",
       "      <th>299</th>\n",
       "    </tr>\n",
       "  </thead>\n",
       "  <tbody>\n",
       "    <tr>\n",
       "      <th>0</th>\n",
       "      <td>0.019443</td>\n",
       "      <td>-0.019986</td>\n",
       "      <td>0.015880</td>\n",
       "      <td>0.089203</td>\n",
       "      <td>-0.027489</td>\n",
       "      <td>-0.080016</td>\n",
       "      <td>-0.002453</td>\n",
       "      <td>0.000192</td>\n",
       "      <td>-0.008916</td>\n",
       "      <td>-0.077531</td>\n",
       "      <td>...</td>\n",
       "      <td>0.008524</td>\n",
       "      <td>-0.009452</td>\n",
       "      <td>-0.010451</td>\n",
       "      <td>0.005987</td>\n",
       "      <td>0.028860</td>\n",
       "      <td>0.001511</td>\n",
       "      <td>-0.006524</td>\n",
       "      <td>-0.025130</td>\n",
       "      <td>-0.005041</td>\n",
       "      <td>0.078958</td>\n",
       "    </tr>\n",
       "    <tr>\n",
       "      <th>1</th>\n",
       "      <td>0.000713</td>\n",
       "      <td>-0.002286</td>\n",
       "      <td>0.022383</td>\n",
       "      <td>0.101323</td>\n",
       "      <td>-0.034927</td>\n",
       "      <td>-0.111125</td>\n",
       "      <td>-0.004469</td>\n",
       "      <td>-0.000014</td>\n",
       "      <td>0.007321</td>\n",
       "      <td>-0.122564</td>\n",
       "      <td>...</td>\n",
       "      <td>0.010168</td>\n",
       "      <td>0.009697</td>\n",
       "      <td>-0.009801</td>\n",
       "      <td>0.009453</td>\n",
       "      <td>0.016019</td>\n",
       "      <td>-0.030460</td>\n",
       "      <td>0.018415</td>\n",
       "      <td>-0.075163</td>\n",
       "      <td>-0.042496</td>\n",
       "      <td>0.103455</td>\n",
       "    </tr>\n",
       "    <tr>\n",
       "      <th>2</th>\n",
       "      <td>0.023267</td>\n",
       "      <td>-0.024933</td>\n",
       "      <td>-0.001866</td>\n",
       "      <td>0.071155</td>\n",
       "      <td>-0.014397</td>\n",
       "      <td>-0.059937</td>\n",
       "      <td>-0.009548</td>\n",
       "      <td>-0.003358</td>\n",
       "      <td>-0.003229</td>\n",
       "      <td>-0.062060</td>\n",
       "      <td>...</td>\n",
       "      <td>0.012276</td>\n",
       "      <td>-0.007193</td>\n",
       "      <td>-0.014125</td>\n",
       "      <td>0.013846</td>\n",
       "      <td>0.029084</td>\n",
       "      <td>0.030599</td>\n",
       "      <td>0.004075</td>\n",
       "      <td>0.019398</td>\n",
       "      <td>-0.000516</td>\n",
       "      <td>0.037295</td>\n",
       "    </tr>\n",
       "  </tbody>\n",
       "</table>\n",
       "<p>3 rows × 300 columns</p>\n",
       "</div>"
      ],
      "text/plain": [
       "        0         1         2         3         4         5         6    \\\n",
       "0  0.019443 -0.019986  0.015880  0.089203 -0.027489 -0.080016 -0.002453   \n",
       "1  0.000713 -0.002286  0.022383  0.101323 -0.034927 -0.111125 -0.004469   \n",
       "2  0.023267 -0.024933 -0.001866  0.071155 -0.014397 -0.059937 -0.009548   \n",
       "\n",
       "        7         8         9    ...       290       291       292       293  \\\n",
       "0  0.000192 -0.008916 -0.077531  ...  0.008524 -0.009452 -0.010451  0.005987   \n",
       "1 -0.000014  0.007321 -0.122564  ...  0.010168  0.009697 -0.009801  0.009453   \n",
       "2 -0.003358 -0.003229 -0.062060  ...  0.012276 -0.007193 -0.014125  0.013846   \n",
       "\n",
       "        294       295       296       297       298       299  \n",
       "0  0.028860  0.001511 -0.006524 -0.025130 -0.005041  0.078958  \n",
       "1  0.016019 -0.030460  0.018415 -0.075163 -0.042496  0.103455  \n",
       "2  0.029084  0.030599  0.004075  0.019398 -0.000516  0.037295  \n",
       "\n",
       "[3 rows x 300 columns]"
      ]
     },
     "metadata": {},
     "output_type": "display_data"
    }
   ],
   "source": [
    "display(smsa_train_df.head(3))"
   ]
  },
  {
   "cell_type": "markdown",
   "id": "6728687a",
   "metadata": {},
   "source": [
    "Now that we have the vector representation of the text dataset, we can perform a simple binary classification for sentiment analysis. We use `RandomForestClassifier` from `scikit-learn` in this demo. We can as well replace it with any other binary clasifier of out own choosing.   "
   ]
  },
  {
   "cell_type": "code",
   "execution_count": 6,
   "id": "94f0771c",
   "metadata": {},
   "outputs": [
    {
     "data": {
      "text/plain": [
       "RandomForestClassifier(bootstrap=True, class_weight=None, criterion='gini',\n",
       "                       max_depth=None, max_features='auto', max_leaf_nodes=None,\n",
       "                       min_impurity_decrease=0.0, min_impurity_split=None,\n",
       "                       min_samples_leaf=1, min_samples_split=2,\n",
       "                       min_weight_fraction_leaf=0.0, n_estimators=100,\n",
       "                       n_jobs=None, oob_score=False, random_state=0, verbose=0,\n",
       "                       warm_start=False)"
      ]
     },
     "execution_count": 6,
     "metadata": {},
     "output_type": "execute_result"
    }
   ],
   "source": [
    "from sklearn.ensemble import RandomForestClassifier\n",
    "model = RandomForestClassifier(n_estimators=100, random_state=0)\n",
    "\n",
    "model.fit(smsa_train_df, smsa_train[\"label\"])"
   ]
  },
  {
   "cell_type": "markdown",
   "id": "6d964ce6",
   "metadata": {},
   "source": [
    "After training, we can do prediction on the test set"
   ]
  },
  {
   "cell_type": "code",
   "execution_count": 7,
   "id": "b71bcab2",
   "metadata": {},
   "outputs": [],
   "source": [
    "pred_sentiment = model.predict(smsa_test_df)"
   ]
  },
  {
   "cell_type": "markdown",
   "id": "a2ed6408",
   "metadata": {},
   "source": [
    "Get the accuracy and confusion matrix"
   ]
  },
  {
   "cell_type": "code",
   "execution_count": 8,
   "id": "c3ca6258",
   "metadata": {},
   "outputs": [
    {
     "name": "stdout",
     "output_type": "stream",
     "text": [
      "              precision    recall  f1-score   support\n",
      "\n",
      "    negative       0.84      0.77      0.80       431\n",
      "     neutral       0.67      0.85      0.75       104\n",
      "    positive       0.89      0.91      0.90       725\n",
      "\n",
      "    accuracy                           0.85      1260\n",
      "   macro avg       0.80      0.84      0.82      1260\n",
      "weighted avg       0.86      0.85      0.85      1260\n",
      "\n"
     ]
    }
   ],
   "source": [
    "from sklearn.metrics import classification_report\n",
    "\n",
    "print(classification_report(pred_sentiment, smsa_test[\"label\"]))"
   ]
  },
  {
   "cell_type": "code",
   "execution_count": 9,
   "id": "b77e662f",
   "metadata": {},
   "outputs": [
    {
     "data": {
      "text/html": [
       "<div>\n",
       "<style scoped>\n",
       "    .dataframe tbody tr th:only-of-type {\n",
       "        vertical-align: middle;\n",
       "    }\n",
       "\n",
       "    .dataframe tbody tr th {\n",
       "        vertical-align: top;\n",
       "    }\n",
       "\n",
       "    .dataframe thead th {\n",
       "        text-align: right;\n",
       "    }\n",
       "</style>\n",
       "<table border=\"1\" class=\"dataframe\">\n",
       "  <thead>\n",
       "    <tr style=\"text-align: right;\">\n",
       "      <th></th>\n",
       "      <th>True negative</th>\n",
       "      <th>True neutral</th>\n",
       "      <th>True positive</th>\n",
       "    </tr>\n",
       "  </thead>\n",
       "  <tbody>\n",
       "    <tr>\n",
       "      <th>Predicted negative</th>\n",
       "      <td>330</td>\n",
       "      <td>5</td>\n",
       "      <td>59</td>\n",
       "    </tr>\n",
       "    <tr>\n",
       "      <th>Predicted neutral</th>\n",
       "      <td>34</td>\n",
       "      <td>88</td>\n",
       "      <td>9</td>\n",
       "    </tr>\n",
       "    <tr>\n",
       "      <th>Predicted positive</th>\n",
       "      <td>67</td>\n",
       "      <td>11</td>\n",
       "      <td>657</td>\n",
       "    </tr>\n",
       "  </tbody>\n",
       "</table>\n",
       "</div>"
      ],
      "text/plain": [
       "                    True negative  True neutral  True positive\n",
       "Predicted negative            330             5             59\n",
       "Predicted neutral              34            88              9\n",
       "Predicted positive             67            11            657"
      ]
     },
     "metadata": {},
     "output_type": "display_data"
    }
   ],
   "source": [
    "from sklearn.metrics import confusion_matrix\n",
    "\n",
    "cm = confusion_matrix(smsa_test[\"label\"], pred_sentiment)\n",
    "cm_df = pd.DataFrame(cm, columns=[(\"True \" + i) for i in np.unique(pred_sentiment)], index = [(\"Predicted \" + i) for i in np.unique(pred_sentiment)])\n",
    "\n",
    "display(cm_df)"
   ]
  },
  {
   "cell_type": "markdown",
   "id": "dd375268",
   "metadata": {},
   "source": [
    "Test the model"
   ]
  },
  {
   "cell_type": "code",
   "execution_count": 10,
   "id": "949c68d6",
   "metadata": {},
   "outputs": [
    {
     "name": "stdout",
     "output_type": "stream",
     "text": [
      "Makanannya enak dan gurih ya ['positive']\n",
      "Lokasi restoran tersebut sangat strategis ['positive']\n",
      "Lokasi restoran tersebut sangat jauh ['negative']\n"
     ]
    }
   ],
   "source": [
    "sample_text = \"Makanannya enak dan gurih ya\"\n",
    "prediction = model.predict(ft.get_sentence_vector(sample_text).reshape(1, -1))\n",
    "print(sample_text, prediction)\n",
    "\n",
    "sample_text = \"Lokasi restoran tersebut sangat strategis\"\n",
    "prediction = model.predict(ft.get_sentence_vector(sample_text).reshape(1, -1))\n",
    "print(sample_text, prediction)\n",
    "\n",
    "sample_text = \"Lokasi restoran tersebut sangat jauh\"\n",
    "prediction = model.predict(ft.get_sentence_vector(sample_text).reshape(1, -1))\n",
    "print(sample_text, prediction)"
   ]
  },
  {
   "cell_type": "markdown",
   "id": "567db37c",
   "metadata": {},
   "source": [
    "### The challenge to do more detailed analyses beyond this point"
   ]
  },
  {
   "cell_type": "markdown",
   "id": "6d86b4c5",
   "metadata": {},
   "source": [
    "In the notebook `SentimentAnalysis_EN_2`, we demonstrate that, in English, we can enrich the sentiment analysis, for example by focusing on sentiment that may be associated with PERSON entities. We rely on Named Entity Recognition (NER) primarily, but then potentially going even further in improving the preciseness of the association using Coreference Resolution and Constituency Parsing.  \n",
    "\n",
    "In Indonesian however, even NER is hard to find, let alone Coreference Resolution and Constituency Parsing. A quick look at `spacy`'s language support (https://spacy.io/usage/models), we can confirm that Indonesian, or any other SEA language, is supported natively there.\n",
    "\n",
    "Another popular alternative `stanza` (http://stanza.run/), has limited support for Indonesian, Vietnamese and Thai. NER is not one of the supported one (see the screenshot below). Neither is coreference resolution or constituency parsing.\n",
    "\n",
    "![Stanza's limited support](Images/Stanza.png)\n",
    "\n",
    "Given this limitation, one possible approach available today is to rely on Multilingual model to do NER in Indonesian or any other SEA language. Please refer to the notebook `Multilingual_NER` for a demonstration."
   ]
  },
  {
   "cell_type": "markdown",
   "id": "b0fff371",
   "metadata": {},
   "source": [
    "### Eniriching Indonesian sentiment analysis by NER using SEA CoreNLP"
   ]
  },
  {
   "cell_type": "markdown",
   "id": "17cfd769",
   "metadata": {},
   "source": [
    "With SEA CoreNLP, we can perform NER, Constituency Parsing and soon Coreference Resolution natively in Indonesian. \n",
    "\n",
    "The following example shows how we perform an Indonesian NER and use the output to filter the sentiment values only on those sentences that mention a PERSON."
   ]
  },
  {
   "cell_type": "code",
   "execution_count": 11,
   "id": "e523bab8",
   "metadata": {},
   "outputs": [
    {
     "name": "stderr",
     "output_type": "stream",
     "text": [
      "/home/williamtjhi/anaconda3/envs/aip_ws1/lib/python3.7/site-packages/torch/cuda/__init__.py:52: UserWarning: CUDA initialization: The NVIDIA driver on your system is too old (found version 9010). Please update your GPU driver by downloading and installing a new version from the URL: http://www.nvidia.com/Download/index.aspx Alternatively, go to: https://pytorch.org to install a PyTorch version that has been compiled with your version of the CUDA driver. (Triggered internally at  /pytorch/c10/cuda/CUDAFunctions.cpp:100.)\n",
      "  return torch._C._cuda_getDeviceCount() > 0\n",
      "Downloading ner-id-nergrit-xlmr-best...: 100%|█| 798M/798M [04:57<00:00, 2.69MB/\n",
      "2022-01-04 09:39:57 INFO: Loading these models for language: id (Indonesian):\n",
      "=======================\n",
      "| Processor | Package |\n",
      "-----------------------\n",
      "| tokenize  | gsd     |\n",
      "=======================\n",
      "\n",
      "2022-01-04 09:39:57 INFO: Use device: cpu\n",
      "2022-01-04 09:39:57 INFO: Loading: tokenize\n",
      "2022-01-04 09:39:57 INFO: Done loading processors!\n"
     ]
    }
   ],
   "source": [
    "from seacorenlp.tagging import NERTagger\n",
    "\n",
    "tagger = NERTagger.from_pretrained(\"ner-id-nergrit-xlmr-best\")"
   ]
  },
  {
   "cell_type": "markdown",
   "id": "4cf1c76b",
   "metadata": {},
   "source": [
    "Let's first test the Indonesian NER model on a sample Indonesian sentence."
   ]
  },
  {
   "cell_type": "code",
   "execution_count": 12,
   "id": "73514ecf",
   "metadata": {},
   "outputs": [
    {
     "data": {
      "text/html": [
       "<div>\n",
       "<style scoped>\n",
       "    .dataframe tbody tr th:only-of-type {\n",
       "        vertical-align: middle;\n",
       "    }\n",
       "\n",
       "    .dataframe tbody tr th {\n",
       "        vertical-align: top;\n",
       "    }\n",
       "\n",
       "    .dataframe thead th {\n",
       "        text-align: right;\n",
       "    }\n",
       "</style>\n",
       "<table border=\"1\" class=\"dataframe\">\n",
       "  <thead>\n",
       "    <tr style=\"text-align: right;\">\n",
       "      <th></th>\n",
       "      <th>0</th>\n",
       "      <th>1</th>\n",
       "    </tr>\n",
       "  </thead>\n",
       "  <tbody>\n",
       "    <tr>\n",
       "      <th>0</th>\n",
       "      <td>Joko</td>\n",
       "      <td>B-PERSON</td>\n",
       "    </tr>\n",
       "    <tr>\n",
       "      <th>1</th>\n",
       "      <td>Widodo</td>\n",
       "      <td>I-PERSON</td>\n",
       "    </tr>\n",
       "    <tr>\n",
       "      <th>2</th>\n",
       "      <td>adalah</td>\n",
       "      <td>O</td>\n",
       "    </tr>\n",
       "    <tr>\n",
       "      <th>3</th>\n",
       "      <td>presiden</td>\n",
       "      <td>O</td>\n",
       "    </tr>\n",
       "    <tr>\n",
       "      <th>4</th>\n",
       "      <td>ketujuh</td>\n",
       "      <td>O</td>\n",
       "    </tr>\n",
       "    <tr>\n",
       "      <th>5</th>\n",
       "      <td>Republik</td>\n",
       "      <td>B-PLACE</td>\n",
       "    </tr>\n",
       "    <tr>\n",
       "      <th>6</th>\n",
       "      <td>Indonesia</td>\n",
       "      <td>I-PLACE</td>\n",
       "    </tr>\n",
       "    <tr>\n",
       "      <th>7</th>\n",
       "      <td>.</td>\n",
       "      <td>O</td>\n",
       "    </tr>\n",
       "  </tbody>\n",
       "</table>\n",
       "</div>"
      ],
      "text/plain": [
       "           0         1\n",
       "0       Joko  B-PERSON\n",
       "1     Widodo  I-PERSON\n",
       "2     adalah         O\n",
       "3   presiden         O\n",
       "4    ketujuh         O\n",
       "5   Republik   B-PLACE\n",
       "6  Indonesia   I-PLACE\n",
       "7          .         O"
      ]
     },
     "metadata": {},
     "output_type": "display_data"
    },
    {
     "data": {
      "text/html": [
       "<div>\n",
       "<style scoped>\n",
       "    .dataframe tbody tr th:only-of-type {\n",
       "        vertical-align: middle;\n",
       "    }\n",
       "\n",
       "    .dataframe tbody tr th {\n",
       "        vertical-align: top;\n",
       "    }\n",
       "\n",
       "    .dataframe thead th {\n",
       "        text-align: right;\n",
       "    }\n",
       "</style>\n",
       "<table border=\"1\" class=\"dataframe\">\n",
       "  <thead>\n",
       "    <tr style=\"text-align: right;\">\n",
       "      <th></th>\n",
       "      <th>0</th>\n",
       "      <th>1</th>\n",
       "    </tr>\n",
       "  </thead>\n",
       "  <tbody>\n",
       "    <tr>\n",
       "      <th>0</th>\n",
       "      <td>Saya</td>\n",
       "      <td>O</td>\n",
       "    </tr>\n",
       "    <tr>\n",
       "      <th>1</th>\n",
       "      <td>berangkat</td>\n",
       "      <td>O</td>\n",
       "    </tr>\n",
       "    <tr>\n",
       "      <th>2</th>\n",
       "      <td>dari</td>\n",
       "      <td>O</td>\n",
       "    </tr>\n",
       "    <tr>\n",
       "      <th>3</th>\n",
       "      <td>Jakarta</td>\n",
       "      <td>B-PLACE</td>\n",
       "    </tr>\n",
       "    <tr>\n",
       "      <th>4</th>\n",
       "      <td>kemarin</td>\n",
       "      <td>O</td>\n",
       "    </tr>\n",
       "    <tr>\n",
       "      <th>5</th>\n",
       "      <td>dan</td>\n",
       "      <td>O</td>\n",
       "    </tr>\n",
       "    <tr>\n",
       "      <th>6</th>\n",
       "      <td>baru</td>\n",
       "      <td>O</td>\n",
       "    </tr>\n",
       "    <tr>\n",
       "      <th>7</th>\n",
       "      <td>tiba</td>\n",
       "      <td>O</td>\n",
       "    </tr>\n",
       "    <tr>\n",
       "      <th>8</th>\n",
       "      <td>di</td>\n",
       "      <td>O</td>\n",
       "    </tr>\n",
       "    <tr>\n",
       "      <th>9</th>\n",
       "      <td>Amerika</td>\n",
       "      <td>B-PLACE</td>\n",
       "    </tr>\n",
       "    <tr>\n",
       "      <th>10</th>\n",
       "      <td>hari</td>\n",
       "      <td>O</td>\n",
       "    </tr>\n",
       "    <tr>\n",
       "      <th>11</th>\n",
       "      <td>ini</td>\n",
       "      <td>O</td>\n",
       "    </tr>\n",
       "    <tr>\n",
       "      <th>12</th>\n",
       "      <td>.</td>\n",
       "      <td>O</td>\n",
       "    </tr>\n",
       "  </tbody>\n",
       "</table>\n",
       "</div>"
      ],
      "text/plain": [
       "            0        1\n",
       "0        Saya        O\n",
       "1   berangkat        O\n",
       "2        dari        O\n",
       "3     Jakarta  B-PLACE\n",
       "4     kemarin        O\n",
       "5         dan        O\n",
       "6        baru        O\n",
       "7        tiba        O\n",
       "8          di        O\n",
       "9     Amerika  B-PLACE\n",
       "10       hari        O\n",
       "11        ini        O\n",
       "12          .        O"
      ]
     },
     "metadata": {},
     "output_type": "display_data"
    }
   ],
   "source": [
    "sample_text_id = \"Joko Widodo adalah presiden ketujuh Republik Indonesia.\"\n",
    "display(pd.DataFrame(tagger.predict(sample_text_id)))\n",
    "\n",
    "sample_text_id = \"Saya berangkat dari Jakarta kemarin dan baru tiba di Amerika hari ini.\"\n",
    "display(pd.DataFrame(tagger.predict(sample_text_id)))"
   ]
  },
  {
   "cell_type": "markdown",
   "id": "4dd9058f",
   "metadata": {},
   "source": [
    "We tag as `True` the sentences in the SMSA test set that contains a reference to any PERSON entity. "
   ]
  },
  {
   "cell_type": "code",
   "execution_count": 13,
   "id": "5228b0bc",
   "metadata": {},
   "outputs": [],
   "source": [
    "smsa_include_person = []\n",
    "for i in smsa_test[\"text\"]:\n",
    "    results = tagger.predict(i)\n",
    "    smsa_include_person.append(\"PERSON\" in [(i[1] if i[1]==\"O\" else i[1].split(\"-\")[1]) for i in results])"
   ]
  },
  {
   "cell_type": "markdown",
   "id": "02da3a76",
   "metadata": {},
   "source": [
    "We show the first few sentences that make references to a PERSON."
   ]
  },
  {
   "cell_type": "code",
   "execution_count": 14,
   "id": "94797623",
   "metadata": {},
   "outputs": [
    {
     "name": "stdout",
     "output_type": "stream",
     "text": [
      "betapa bejad kader gerindra yang anggota dprd mencabuli anak smp , rakyat harus cerdas partai mana yang harus di tengelamkan di 2019 [negative]\n",
      "\n",
      "kampiun bistro berada di jalan . kebon kawung , sebelah kanan seberang stasiun kota bandung . harga makanan dan minuman nya sangat terjangkau . ada live musik juga . dan kalau beruntung , anda akan bertemu dengan yuke dewa19 di tempat ini . [positive]\n",
      "\n",
      "kamar nya sempit tidak ada tempat menyimpan barang malah menambah barang . by the way ini kipas2 mau diletakkan mana . mana uchiwa segede ini pula . [negative]\n",
      "\n",
      "malah .. !!! tren si tukang fitnah bicara iman , dasar akun sapi yang takut kehilangan kursi cawapres prabowo makanya busukkan nama ahy dan say [negative]\n",
      "\n",
      "gue bingung sama pemerintahan jokowi . banyak orang yang muji dia padahal dia cuma bisa merusak negara kita saja . aneh [negative]\n",
      "\n"
     ]
    }
   ],
   "source": [
    "sample_sentences_w_person = [(x + \" [\" + pred_sentiment[i] + \"]\") for i,x in enumerate(smsa_test[\"text\"]) if smsa_include_person[i]]\n",
    "for i in sample_sentences_w_person[:5]:\n",
    "    print(i + \"\\n\")"
   ]
  },
  {
   "cell_type": "markdown",
   "id": "a67e3ee4",
   "metadata": {},
   "source": [
    "We show the first few sentences that DO NOT make references to a PERSON."
   ]
  },
  {
   "cell_type": "code",
   "execution_count": 15,
   "id": "ef04d4e7",
   "metadata": {},
   "outputs": [
    {
     "name": "stdout",
     "output_type": "stream",
     "text": [
      "meski masa kampanye sudah selesai , bukan berati habis pula upaya mengerek tingkat kedipilihan elektabilitas . [negative]\n",
      "\n",
      "tidak enak [negative]\n",
      "\n",
      "restoran ini menawarkan makanan sunda . kami memesan ayam goreng , kangkung , sayur asam , ikan gurame goreng , ikan bakar , nasi goreng , karedok , tahu tempe , nasi putih , nasi merah etc minuman yang mereka tawarkan juga cukup variatif . rasa makanan enak dan harga murah . kami 9 dewasa dan 5 anak kecil , hanya menghabiskan 800,000 [positive]\n",
      "\n",
      "lokasi di alun alun masakan padang ini cukup terkenal dengan kepala ikan kakap gule , biasa saya pesan nasi bungkus padang berisikan rendang , ayam pop dan perkedel . porsi banyak dan mengenyangkan [positive]\n",
      "\n",
      "saya tadi mampir ke restauran ini , mungkin letak nya strategis , pertama masuk dikasih senyuman manis sama mbak yang ramah , di situ pun saya memesan chiken grill , es thai tea dan super duper ice cream . enak . saya suka . [positive]\n",
      "\n"
     ]
    }
   ],
   "source": [
    "sample_sentences_wo_person = [(x + \" [\" + pred_sentiment[i] + \"]\") for i,x in enumerate(smsa_test[\"text\"]) if smsa_include_person[i]==False]\n",
    "for i in sample_sentences_wo_person[:5]:\n",
    "    print(i + \"\\n\")"
   ]
  },
  {
   "cell_type": "markdown",
   "id": "de4fd730",
   "metadata": {},
   "source": [
    "Just like what we have done in English, let's look at the sentiment distribution if we consider only those sentences that make any reference to a person. We can contrast it with the sentiment distribution of all the sentences in the test set. \n",
    "\n",
    "In this particular dataset, we can see that when there are references to PERSON in sentences, the chance of the sentences being negative is high. Overall, there are actually far more positive sentences than negative ones. "
   ]
  },
  {
   "cell_type": "code",
   "execution_count": 16,
   "id": "291062c9",
   "metadata": {},
   "outputs": [
    {
     "data": {
      "text/html": [
       "<div>\n",
       "<style scoped>\n",
       "    .dataframe tbody tr th:only-of-type {\n",
       "        vertical-align: middle;\n",
       "    }\n",
       "\n",
       "    .dataframe tbody tr th {\n",
       "        vertical-align: top;\n",
       "    }\n",
       "\n",
       "    .dataframe thead th {\n",
       "        text-align: right;\n",
       "    }\n",
       "</style>\n",
       "<table border=\"1\" class=\"dataframe\">\n",
       "  <thead>\n",
       "    <tr style=\"text-align: right;\">\n",
       "      <th></th>\n",
       "      <th>negative</th>\n",
       "      <th>neutral</th>\n",
       "      <th>positive</th>\n",
       "    </tr>\n",
       "  </thead>\n",
       "  <tbody>\n",
       "    <tr>\n",
       "      <th>mentioning_a_person</th>\n",
       "      <td>93</td>\n",
       "      <td>45</td>\n",
       "      <td>23</td>\n",
       "    </tr>\n",
       "    <tr>\n",
       "      <th>all_reviews</th>\n",
       "      <td>431</td>\n",
       "      <td>104</td>\n",
       "      <td>725</td>\n",
       "    </tr>\n",
       "  </tbody>\n",
       "</table>\n",
       "</div>"
      ],
      "text/plain": [
       "                     negative  neutral  positive\n",
       "mentioning_a_person        93       45        23\n",
       "all_reviews               431      104       725"
      ]
     },
     "metadata": {},
     "output_type": "display_data"
    },
    {
     "data": {
      "image/png": "[encoded data removed]",
      "text/plain": [
       "<Figure size 432x288 with 1 Axes>"
      ]
     },
     "metadata": {
      "needs_background": "light"
     },
     "output_type": "display_data"
    }
   ],
   "source": [
    "import matplotlib.pyplot as plt\n",
    "\n",
    "x = pd.Series(pred_sentiment[np.where(smsa_include_person)]).value_counts()\n",
    "y = pd.Series(pred_sentiment).value_counts()\n",
    "\n",
    "z = pd.concat([x, y], axis=1)\n",
    "z.columns =  [\"mentioning_a_person\", \"all_reviews\"]\n",
    "z = z.transpose()\n",
    "\n",
    "display(z)\n",
    "\n",
    "z.plot.bar()\n",
    "plt.show()"
   ]
  },
  {
   "cell_type": "markdown",
   "id": "a0084593",
   "metadata": {},
   "source": [
    "### SEA CoreNLP for coreference resolution and constituency parsing"
   ]
  },
  {
   "cell_type": "markdown",
   "id": "43c75cc9",
   "metadata": {},
   "source": [
    "SEA CoreNLP can also be used to perform Indonesian constituency parsing and coreference resolution.\n",
    "\n",
    "The following shows an example of the output of SEA CoreNLP's constituency parsing in Indonesian on one of the sentences in the test set.\n",
    "\n",
    "![SEA CoreNLP Constituency](Images/SEACoreNLP_Constituency.png)\n",
    "\n",
    "The Indonesian coreference resolution model is still in its prototype. We can however preview the output of the model when applied on the SMSA test set in this file: <a href=\"./SMSA_coreference_result.jsonlines\" >SMSA_coreference_result.jsonlines</a>"
   ]
  },
  {
   "cell_type": "code",
   "execution_count": null,
   "id": "d9a60bf3",
   "metadata": {},
   "outputs": [],
   "source": []
  }
 ],
 "metadata": {
  "kernelspec": {
   "display_name": "Python 3 (ipykernel)",
   "language": "python",
   "name": "python3"
  },
  "language_info": {
   "codemirror_mode": {
    "name": "ipython",
    "version": 3
   },
   "file_extension": ".py",
   "mimetype": "text/x-python",
   "name": "python",
   "nbconvert_exporter": "python",
   "pygments_lexer": "ipython3",
   "version": "3.7.11"
  }
 },
 "nbformat": 4,
 "nbformat_minor": 5
}

{
 "cells": [
  {
   "cell_type": "code",
   "execution_count": 1,
   "id": "bb13d3bd",
   "metadata": {},
   "outputs": [],
   "source": [
    "import pandas as pd\n",
    "from transformers import pipeline"
   ]
  },
  {
   "cell_type": "markdown",
   "id": "578f8705",
   "metadata": {},
   "source": [
    "We will base our analysis on a multilingual model called XLM-Roberta that has been pre-trained on 100 languages (https://huggingface.co/docs/transformers/model_doc/xlmroberta).\n",
    "\n",
    "Furthermore, we will be using a version of XLM-Roberta that has been fine-tuned on a benchmark English NER dataset, CONLL 2003 (https://huggingface.co/xlm-roberta-large-finetuned-conll03-english).\n",
    "\n",
    "Despite the fact that the model has not been trained on any Indonesian NER dataset, due to the multilingual nature of the pre-training, the model can transfer the \"knowledge\" it gains from recognising English named entities to predict Indonesian named entities."
   ]
  },
  {
   "cell_type": "code",
   "execution_count": 2,
   "id": "928c2467",
   "metadata": {},
   "outputs": [],
   "source": [
    "ner_tagger = pipeline('ner', model=\"xlm-roberta-large-finetuned-conll03-english\")"
   ]
  },
  {
   "cell_type": "markdown",
   "id": "ba3f1634",
   "metadata": {},
   "source": [
    "Let's have a quick peek at the CONLL 2003 dataset."
   ]
  },
  {
   "cell_type": "code",
   "execution_count": 3,
   "id": "2eca162a",
   "metadata": {},
   "outputs": [
    {
     "name": "stderr",
     "output_type": "stream",
     "text": [
      "Reusing dataset conll2003 (/home/williamtjhi/.cache/huggingface/datasets/conll2003/conll2003/1.0.0/40e7cb6bcc374f7c349c83acd1e9352a4f09474eb691f64f364ee62eb65d0ca6)\n"
     ]
    },
    {
     "data": {
      "application/vnd.jupyter.widget-view+json": {
       "model_id": "240325c37cf045c8bcc5757c559a563c",
       "version_major": 2,
       "version_minor": 0
      },
      "text/plain": [
       "  0%|          | 0/3 [00:00<?, ?it/s]"
      ]
     },
     "metadata": {},
     "output_type": "display_data"
    },
    {
     "data": {
      "text/plain": [
       "{'id': '0',\n",
       " 'tokens': ['EU',\n",
       "  'rejects',\n",
       "  'German',\n",
       "  'call',\n",
       "  'to',\n",
       "  'boycott',\n",
       "  'British',\n",
       "  'lamb',\n",
       "  '.'],\n",
       " 'pos_tags': [22, 42, 16, 21, 35, 37, 16, 21, 7],\n",
       " 'chunk_tags': [11, 21, 11, 12, 21, 22, 11, 12, 0],\n",
       " 'ner_tags': [3, 0, 7, 0, 0, 0, 7, 0, 0]}"
      ]
     },
     "metadata": {},
     "output_type": "display_data"
    },
    {
     "data": {
      "text/plain": [
       "Sequence(feature=ClassLabel(num_classes=9, names=['O', 'B-PER', 'I-PER', 'B-ORG', 'I-ORG', 'B-LOC', 'I-LOC', 'B-MISC', 'I-MISC'], names_file=None, id=None), length=-1, id=None)"
      ]
     },
     "metadata": {},
     "output_type": "display_data"
    }
   ],
   "source": [
    "from datasets import load_dataset\n",
    "\n",
    "conll2003 = load_dataset(\"conll2003\")\n",
    "\n",
    "display(conll2003[\"train\"][0])\n",
    "display(conll2003[\"train\"].features[\"ner_tags\"])"
   ]
  },
  {
   "cell_type": "markdown",
   "id": "7d816cdf",
   "metadata": {},
   "source": [
    "We first test the model on an English sentence."
   ]
  },
  {
   "cell_type": "code",
   "execution_count": 4,
   "id": "a532b73e",
   "metadata": {},
   "outputs": [
    {
     "data": {
      "text/html": [
       "<div>\n",
       "<style scoped>\n",
       "    .dataframe tbody tr th:only-of-type {\n",
       "        vertical-align: middle;\n",
       "    }\n",
       "\n",
       "    .dataframe tbody tr th {\n",
       "        vertical-align: top;\n",
       "    }\n",
       "\n",
       "    .dataframe thead th {\n",
       "        text-align: right;\n",
       "    }\n",
       "</style>\n",
       "<table border=\"1\" class=\"dataframe\">\n",
       "  <thead>\n",
       "    <tr style=\"text-align: right;\">\n",
       "      <th></th>\n",
       "      <th>word</th>\n",
       "      <th>score</th>\n",
       "      <th>entity</th>\n",
       "      <th>index</th>\n",
       "      <th>start</th>\n",
       "      <th>end</th>\n",
       "    </tr>\n",
       "  </thead>\n",
       "  <tbody>\n",
       "    <tr>\n",
       "      <th>0</th>\n",
       "      <td>▁Donald</td>\n",
       "      <td>0.999990</td>\n",
       "      <td>I-PER</td>\n",
       "      <td>1</td>\n",
       "      <td>0</td>\n",
       "      <td>6</td>\n",
       "    </tr>\n",
       "    <tr>\n",
       "      <th>1</th>\n",
       "      <td>▁Trump</td>\n",
       "      <td>0.999988</td>\n",
       "      <td>I-PER</td>\n",
       "      <td>2</td>\n",
       "      <td>7</td>\n",
       "      <td>12</td>\n",
       "    </tr>\n",
       "    <tr>\n",
       "      <th>2</th>\n",
       "      <td>▁White</td>\n",
       "      <td>0.999996</td>\n",
       "      <td>I-LOC</td>\n",
       "      <td>6</td>\n",
       "      <td>25</td>\n",
       "      <td>30</td>\n",
       "    </tr>\n",
       "    <tr>\n",
       "      <th>3</th>\n",
       "      <td>▁House</td>\n",
       "      <td>0.999997</td>\n",
       "      <td>I-LOC</td>\n",
       "      <td>7</td>\n",
       "      <td>31</td>\n",
       "      <td>36</td>\n",
       "    </tr>\n",
       "  </tbody>\n",
       "</table>\n",
       "</div>"
      ],
      "text/plain": [
       "      word     score entity  index  start  end\n",
       "0  ▁Donald  0.999990  I-PER      1      0    6\n",
       "1   ▁Trump  0.999988  I-PER      2      7   12\n",
       "2   ▁White  0.999996  I-LOC      6     25   30\n",
       "3   ▁House  0.999997  I-LOC      7     31   36"
      ]
     },
     "metadata": {},
     "output_type": "display_data"
    },
    {
     "data": {
      "text/html": [
       "<div>\n",
       "<style scoped>\n",
       "    .dataframe tbody tr th:only-of-type {\n",
       "        vertical-align: middle;\n",
       "    }\n",
       "\n",
       "    .dataframe tbody tr th {\n",
       "        vertical-align: top;\n",
       "    }\n",
       "\n",
       "    .dataframe thead th {\n",
       "        text-align: right;\n",
       "    }\n",
       "</style>\n",
       "<table border=\"1\" class=\"dataframe\">\n",
       "  <thead>\n",
       "    <tr style=\"text-align: right;\">\n",
       "      <th></th>\n",
       "      <th>word</th>\n",
       "      <th>score</th>\n",
       "      <th>entity</th>\n",
       "      <th>index</th>\n",
       "      <th>start</th>\n",
       "      <th>end</th>\n",
       "    </tr>\n",
       "  </thead>\n",
       "  <tbody>\n",
       "    <tr>\n",
       "      <th>0</th>\n",
       "      <td>▁Thor</td>\n",
       "      <td>0.999725</td>\n",
       "      <td>I-PER</td>\n",
       "      <td>1</td>\n",
       "      <td>0</td>\n",
       "      <td>4</td>\n",
       "    </tr>\n",
       "    <tr>\n",
       "      <th>1</th>\n",
       "      <td>▁Avengers</td>\n",
       "      <td>0.999931</td>\n",
       "      <td>I-ORG</td>\n",
       "      <td>7</td>\n",
       "      <td>24</td>\n",
       "      <td>32</td>\n",
       "    </tr>\n",
       "  </tbody>\n",
       "</table>\n",
       "</div>"
      ],
      "text/plain": [
       "        word     score entity  index  start  end\n",
       "0      ▁Thor  0.999725  I-PER      1      0    4\n",
       "1  ▁Avengers  0.999931  I-ORG      7     24   32"
      ]
     },
     "metadata": {},
     "output_type": "display_data"
    }
   ],
   "source": [
    "sample_text_en = \"Donald Trump went to the White House last week.\"\n",
    "display(pd.DataFrame(ner_tagger(sample_text_en)))\n",
    "\n",
    "sample_text_en = \"Thor is a member of the Avengers.\"\n",
    "display(pd.DataFrame(ner_tagger(sample_text_en)))"
   ]
  },
  {
   "cell_type": "markdown",
   "id": "8491d016",
   "metadata": {},
   "source": [
    "Let's move on to test it on some Indonesian sentences."
   ]
  },
  {
   "cell_type": "code",
   "execution_count": 5,
   "id": "4d3a1446",
   "metadata": {},
   "outputs": [
    {
     "data": {
      "text/html": [
       "<div>\n",
       "<style scoped>\n",
       "    .dataframe tbody tr th:only-of-type {\n",
       "        vertical-align: middle;\n",
       "    }\n",
       "\n",
       "    .dataframe tbody tr th {\n",
       "        vertical-align: top;\n",
       "    }\n",
       "\n",
       "    .dataframe thead th {\n",
       "        text-align: right;\n",
       "    }\n",
       "</style>\n",
       "<table border=\"1\" class=\"dataframe\">\n",
       "  <thead>\n",
       "    <tr style=\"text-align: right;\">\n",
       "      <th></th>\n",
       "      <th>word</th>\n",
       "      <th>score</th>\n",
       "      <th>entity</th>\n",
       "      <th>index</th>\n",
       "      <th>start</th>\n",
       "      <th>end</th>\n",
       "    </tr>\n",
       "  </thead>\n",
       "  <tbody>\n",
       "    <tr>\n",
       "      <th>0</th>\n",
       "      <td>▁Budi</td>\n",
       "      <td>0.999916</td>\n",
       "      <td>I-PER</td>\n",
       "      <td>3</td>\n",
       "      <td>10</td>\n",
       "      <td>14</td>\n",
       "    </tr>\n",
       "    <tr>\n",
       "      <th>1</th>\n",
       "      <td>▁U</td>\n",
       "      <td>0.999982</td>\n",
       "      <td>I-LOC</td>\n",
       "      <td>15</td>\n",
       "      <td>67</td>\n",
       "      <td>68</td>\n",
       "    </tr>\n",
       "    <tr>\n",
       "      <th>2</th>\n",
       "      <td>bud</td>\n",
       "      <td>0.999979</td>\n",
       "      <td>I-LOC</td>\n",
       "      <td>16</td>\n",
       "      <td>68</td>\n",
       "      <td>71</td>\n",
       "    </tr>\n",
       "    <tr>\n",
       "      <th>3</th>\n",
       "      <td>▁Bali</td>\n",
       "      <td>0.999992</td>\n",
       "      <td>I-LOC</td>\n",
       "      <td>18</td>\n",
       "      <td>73</td>\n",
       "      <td>77</td>\n",
       "    </tr>\n",
       "  </tbody>\n",
       "</table>\n",
       "</div>"
      ],
      "text/plain": [
       "    word     score entity  index  start  end\n",
       "0  ▁Budi  0.999916  I-PER      3     10   14\n",
       "1     ▁U  0.999982  I-LOC     15     67   68\n",
       "2    bud  0.999979  I-LOC     16     68   71\n",
       "3  ▁Bali  0.999992  I-LOC     18     73   77"
      ]
     },
     "metadata": {},
     "output_type": "display_data"
    },
    {
     "data": {
      "text/html": [
       "<div>\n",
       "<style scoped>\n",
       "    .dataframe tbody tr th:only-of-type {\n",
       "        vertical-align: middle;\n",
       "    }\n",
       "\n",
       "    .dataframe tbody tr th {\n",
       "        vertical-align: top;\n",
       "    }\n",
       "\n",
       "    .dataframe thead th {\n",
       "        text-align: right;\n",
       "    }\n",
       "</style>\n",
       "<table border=\"1\" class=\"dataframe\">\n",
       "  <thead>\n",
       "    <tr style=\"text-align: right;\">\n",
       "      <th></th>\n",
       "      <th>word</th>\n",
       "      <th>score</th>\n",
       "      <th>entity</th>\n",
       "      <th>index</th>\n",
       "      <th>start</th>\n",
       "      <th>end</th>\n",
       "    </tr>\n",
       "  </thead>\n",
       "  <tbody>\n",
       "    <tr>\n",
       "      <th>0</th>\n",
       "      <td>▁Budi</td>\n",
       "      <td>0.999983</td>\n",
       "      <td>I-PER</td>\n",
       "      <td>1</td>\n",
       "      <td>0</td>\n",
       "      <td>4</td>\n",
       "    </tr>\n",
       "    <tr>\n",
       "      <th>1</th>\n",
       "      <td>▁Men</td>\n",
       "      <td>0.884495</td>\n",
       "      <td>I-LOC</td>\n",
       "      <td>6</td>\n",
       "      <td>27</td>\n",
       "      <td>30</td>\n",
       "    </tr>\n",
       "    <tr>\n",
       "      <th>2</th>\n",
       "      <td>ara</td>\n",
       "      <td>0.825791</td>\n",
       "      <td>I-LOC</td>\n",
       "      <td>7</td>\n",
       "      <td>30</td>\n",
       "      <td>33</td>\n",
       "    </tr>\n",
       "    <tr>\n",
       "      <th>3</th>\n",
       "      <td>▁B</td>\n",
       "      <td>0.999868</td>\n",
       "      <td>I-ORG</td>\n",
       "      <td>8</td>\n",
       "      <td>34</td>\n",
       "      <td>35</td>\n",
       "    </tr>\n",
       "    <tr>\n",
       "      <th>4</th>\n",
       "      <td>CA</td>\n",
       "      <td>0.999681</td>\n",
       "      <td>I-ORG</td>\n",
       "      <td>9</td>\n",
       "      <td>35</td>\n",
       "      <td>37</td>\n",
       "    </tr>\n",
       "  </tbody>\n",
       "</table>\n",
       "</div>"
      ],
      "text/plain": [
       "    word     score entity  index  start  end\n",
       "0  ▁Budi  0.999983  I-PER      1      0    4\n",
       "1   ▁Men  0.884495  I-LOC      6     27   30\n",
       "2    ara  0.825791  I-LOC      7     30   33\n",
       "3     ▁B  0.999868  I-ORG      8     34   35\n",
       "4     CA  0.999681  I-ORG      9     35   37"
      ]
     },
     "metadata": {},
     "output_type": "display_data"
    }
   ],
   "source": [
    "sample_text_id = \"Nama saya Budi. Saya lahir di tahun 1981. Sekarang saya tinggal di Ubud, Bali.\"\n",
    "#My name is Budi. I was born in 1981. I am currently living in Ubud, Bali.\n",
    "display(pd.DataFrame(ner_tagger(sample_text_id)))\n",
    "\n",
    "sample_text_id = \"Budi sudah sampai di depan Menara BCA.\"\n",
    "#Budi has arrived in front of the BCA Tower\n",
    "display(pd.DataFrame(ner_tagger(sample_text_id)))"
   ]
  },
  {
   "cell_type": "markdown",
   "id": "9328780a",
   "metadata": {},
   "source": [
    "The results are not bad. For the first sentence, the model gives a perfect prediction. It knows that Ubud, Bali refer to LOCATION, and Budi a PERSON.\n",
    "\n",
    "For the second sentence, it correctly tags Budi as a PERSON. It also recognises that BCA is an ORGANISATION. However, in this context, Menara BCA should be treated as a single entity, referring to a location that Budi is currently located. \n",
    "\n",
    "In general, Multilingual model does not capture the \"local context\" as well as a native Monolingual model trained in Indonesian in this case. Recent research studies confirm that in most cases, Monolingual models mostly perform more accurately than Multilingual models (see some references: https://arxiv.org/abs/2009.05387 and https://arxiv.org/abs/2011.00677.\n",
    "\n",
    "There are some practical challenges in building monolingual models for low-resource languages though. The chief among them is the relatively small sizes of native corpora (relative to English) that can be used to pre-trained the models.\n",
    "\n",
    "An interim way to resolve this problem is by fine-tuning a multilingual model with a native annotated dataset, e.g. and Indonesian version of CONLL2003. This exactly what we did in SEA CoreNLP. The Indonesian NER model there was trained by fine-tuning XLM-Roberta with NER-Grit (an Indonesian NER corpus https://github.com/grit-id/nergrit-corpus).  "
   ]
  },
  {
   "cell_type": "code",
   "execution_count": null,
   "id": "e2850e4e",
   "metadata": {},
   "outputs": [],
   "source": []
  }
 ],
 "metadata": {
  "kernelspec": {
   "display_name": "Python 3 (ipykernel)",
   "language": "python",
   "name": "python3"
  },
  "language_info": {
   "codemirror_mode": {
    "name": "ipython",
    "version": 3
   },
   "file_extension": ".py",
   "mimetype": "text/x-python",
   "name": "python",
   "nbconvert_exporter": "python",
   "pygments_lexer": "ipython3",
   "version": "3.7.11"
  }
 },
 "nbformat": 4,
 "nbformat_minor": 5
}
